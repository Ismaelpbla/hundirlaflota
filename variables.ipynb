{
 "cells": [
  {
   "cell_type": "code",
   "execution_count": 36,
   "metadata": {},
   "outputs": [
    {
     "name": "stdout",
     "output_type": "stream",
     "text": [
      "[['A' ' ' ' ' ' ' ' ' ' ' ' ' ' ' ' ' ' ' ' ']\n",
      " ['B' ' ' ' ' ' ' ' ' ' ' ' ' ' ' ' ' ' ' ' ']\n",
      " ['C' ' ' ' ' ' ' ' ' ' ' ' ' ' ' ' ' ' ' ' ']\n",
      " ['D' ' ' ' ' ' ' ' ' ' ' ' ' ' ' ' ' ' ' ' ']\n",
      " ['E' ' ' ' ' ' ' ' ' ' ' ' ' ' ' ' ' ' ' ' ']\n",
      " ['F' ' ' ' ' ' ' ' ' ' ' ' ' ' ' ' ' ' ' ' ']\n",
      " ['G' ' ' ' ' ' ' ' ' ' ' ' ' ' ' ' ' ' ' ' ']\n",
      " ['H' ' ' ' ' ' ' ' ' ' ' ' ' ' ' ' ' ' ' ' ']\n",
      " ['I' ' ' ' ' ' ' ' ' ' ' ' ' ' ' ' ' ' ' ' ']\n",
      " ['J' ' ' ' ' ' ' ' ' ' ' ' ' ' ' ' ' ' ' ' ']\n",
      " ['' '0' '1' '2' '3' '4' '5' '6' '7' '8' '9']]\n",
      "[['A' ' ' ' ' ' ' ' ' ' ' ' ' ' ' ' ' ' ' ' ']\n",
      " ['B' ' ' ' ' ' ' ' ' ' ' ' ' ' ' ' ' ' ' ' ']\n",
      " ['C' ' ' ' ' ' ' ' ' ' ' ' ' ' ' ' ' ' ' ' ']\n",
      " ['D' ' ' ' ' ' ' ' ' ' ' ' ' ' ' ' ' ' ' ' ']\n",
      " ['E' ' ' ' ' ' ' ' ' ' ' ' ' ' ' ' ' ' ' ' ']\n",
      " ['F' ' ' ' ' ' ' ' ' ' ' ' ' ' ' ' ' ' ' ' ']\n",
      " ['G' ' ' ' ' ' ' ' ' ' ' ' ' ' ' ' ' ' ' ' ']\n",
      " ['H' ' ' ' ' ' ' ' ' ' ' ' ' ' ' ' ' ' ' ' ']\n",
      " ['I' ' ' ' ' ' ' ' ' ' ' ' ' ' ' ' ' ' ' ' ']\n",
      " ['J' ' ' ' ' ' ' ' ' ' ' ' ' ' ' ' ' ' ' ' ']\n",
      " ['' '0' '1' '2' '3' '4' '5' '6' '7' '8' '9']]\n",
      "[['W' 'W' 'W' 'W' 'W' 'W' 'W' 'W' 'W' 'W']\n",
      " ['W' 'W' 'W' 'W' 'W' 'W' 'W' 'W' 'W' 'W']\n",
      " ['W' 'W' 'W' 'W' 'W' 'W' 'W' 'W' 'W' 'W']\n",
      " ['W' 'W' 'W' 'W' 'W' 'W' 'W' 'W' 'W' 'W']\n",
      " ['W' 'W' 'W' 'W' 'W' 'W' 'W' 'W' 'W' 'W']\n",
      " ['W' 'W' 'W' 'W' 'W' 'W' 'W' 'W' 'W' 'W']\n",
      " ['W' 'W' 'W' 'W' 'W' 'W' 'W' 'W' 'W' 'W']\n",
      " ['W' 'W' 'W' 'W' 'W' 'W' 'W' 'W' 'W' 'W']\n",
      " ['W' 'W' 'W' 'W' 'W' 'W' 'W' 'W' 'W' 'W']\n",
      " ['W' 'W' 'W' 'W' 'W' 'W' 'W' 'W' 'W' 'W']]\n",
      "[[' ' ' ' ' ' ' ' ' ' ' ' ' ' ' ' ' ' ' ']\n",
      " [' ' ' ' ' ' ' ' ' ' ' ' ' ' ' ' ' ' ' ']\n",
      " [' ' ' ' ' ' ' ' ' ' ' ' ' ' ' ' ' ' ' ']\n",
      " [' ' ' ' ' ' ' ' ' ' ' ' ' ' ' ' ' ' ' ']\n",
      " [' ' ' ' ' ' ' ' ' ' ' ' ' ' ' ' ' ' ' ']\n",
      " [' ' ' ' ' ' ' ' ' ' ' ' ' ' ' ' ' ' ' ']\n",
      " [' ' ' ' ' ' ' ' ' ' ' ' ' ' ' ' ' ' ' ']\n",
      " [' ' ' ' ' ' ' ' ' ' ' ' ' ' ' ' ' ' ' ']\n",
      " [' ' ' ' ' ' ' ' ' ' ' ' ' ' ' ' ' ' ' ']\n",
      " [' ' ' ' ' ' ' ' ' ' ' ' ' ' ' ' ' ' ' ']]\n",
      "4\n"
     ]
    }
   ],
   "source": [
    "import numpy as np\n",
    "import random as rd\n",
    "\n",
    "tablero_jugador = np.full((11,11), ' ')\n",
    "columnas_ref = ['A', 'B', 'C', 'D', 'E', 'F', 'G', 'H', 'I', 'J']\n",
    "filas_ref = ['',0,1,2,3,4,5,6,7,8,9]\n",
    "\n",
    "for i in range(len(columnas_ref)):\n",
    "    tablero_jugador[i,0] = columnas_ref[i]\n",
    "\n",
    "\n",
    "for i in range(len(filas_ref)):\n",
    "    tablero_jugador[10,i] = filas_ref[i]\n",
    "print(tablero_jugador)\n",
    "\n",
    "board_check_jugador = np.full((11,11), ' ')\n",
    "\n",
    "for i in range(len(columnas_ref)):\n",
    "    board_check_jugador[i,0] = columnas_ref[i]\n",
    "\n",
    "\n",
    "for i in range(len(filas_ref)):\n",
    "    board_check_jugador[10,i] = filas_ref[i]\n",
    "print(board_check_jugador)\n",
    "\n",
    "board_maquina = np.full((10,10), 'W')\n",
    "\n",
    "board_check_maquina = np.full((10,10), ' ')\n",
    "\n",
    "print(board_maquina)\n",
    "print(board_check_maquina)\n",
    "\n",
    "naves = {'lancha':[4,1], 'Crucero':[3,2], 'Buque':[2,3], 'Portaviones':[1,4]}\n",
    "\n",
    "inventario_jugador = []\n",
    "\n",
    "inventario_maquina = []\n",
    "\n",
    "print(naves['lancha'][0])"
   ]
  }
 ],
 "metadata": {
  "interpreter": {
   "hash": "11ffc019a02cc0e21e59860b66c88ea81995ce9237607e8ab2c087a287ee4867"
  },
  "kernelspec": {
   "display_name": "Python 3.8.5 ('base')",
   "language": "python",
   "name": "python3"
  },
  "language_info": {
   "codemirror_mode": {
    "name": "ipython",
    "version": 3
   },
   "file_extension": ".py",
   "mimetype": "text/x-python",
   "name": "python",
   "nbconvert_exporter": "python",
   "pygments_lexer": "ipython3",
   "version": "3.8.5"
  },
  "orig_nbformat": 4
 },
 "nbformat": 4,
 "nbformat_minor": 2
}
